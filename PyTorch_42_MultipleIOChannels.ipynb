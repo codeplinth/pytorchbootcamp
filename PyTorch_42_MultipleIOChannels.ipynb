{
  "nbformat": 4,
  "nbformat_minor": 0,
  "metadata": {
    "colab": {
      "name": "PyTorch_42_MultipleIOChannels.ipynb",
      "provenance": [],
      "collapsed_sections": [],
      "authorship_tag": "ABX9TyPEc2KbK7gPtt2YST4Fcjrg",
      "include_colab_link": true
    },
    "kernelspec": {
      "name": "python3",
      "display_name": "Python 3"
    }
  },
  "cells": [
    {
      "cell_type": "markdown",
      "metadata": {
        "id": "view-in-github",
        "colab_type": "text"
      },
      "source": [
        "<a href=\"https://colab.research.google.com/github/codeplinth/pytorchbootcamp/blob/master/PyTorch_42_MultipleIOChannels.ipynb\" target=\"_parent\"><img src=\"https://colab.research.google.com/assets/colab-badge.svg\" alt=\"Open In Colab\"/></a>"
      ]
    },
    {
      "cell_type": "code",
      "metadata": {
        "id": "YVCuGXkiPVIt"
      },
      "source": [
        "import torch\n",
        "from torch import nn\n",
        "import matplotlib.pyplot as plt"
      ],
      "execution_count": 1,
      "outputs": []
    },
    {
      "cell_type": "code",
      "metadata": {
        "id": "eZNQBya9PgsI"
      },
      "source": [
        "conv1 = nn.Conv2d(in_channels=1,out_channels=3,kernel_size=3)"
      ],
      "execution_count": 2,
      "outputs": []
    },
    {
      "cell_type": "code",
      "metadata": {
        "id": "T9R7sfUJQc3C",
        "outputId": "c7ad8c96-1774-44b4-9317-1e8f01dd77f1",
        "colab": {
          "base_uri": "https://localhost:8080/",
          "height": 260
        }
      },
      "source": [
        "#kernels are randomly initialized\n",
        "conv1.state_dict()"
      ],
      "execution_count": 3,
      "outputs": [
        {
          "output_type": "execute_result",
          "data": {
            "text/plain": [
              "OrderedDict([('weight', tensor([[[[ 0.0854, -0.2625,  0.3196],\n",
              "                        [-0.1633,  0.2931,  0.2618],\n",
              "                        [-0.1302,  0.0692,  0.1122]]],\n",
              "              \n",
              "              \n",
              "                      [[[-0.2505,  0.2641, -0.2499],\n",
              "                        [-0.0703,  0.0897, -0.2353],\n",
              "                        [ 0.1047,  0.0650, -0.1454]]],\n",
              "              \n",
              "              \n",
              "                      [[[-0.2333,  0.3042, -0.1587],\n",
              "                        [-0.0123, -0.1965, -0.0152],\n",
              "                        [ 0.0145,  0.3129, -0.0544]]]])),\n",
              "             ('bias', tensor([ 0.0449,  0.0748, -0.2507]))])"
            ]
          },
          "metadata": {
            "tags": []
          },
          "execution_count": 3
        }
      ]
    },
    {
      "cell_type": "code",
      "metadata": {
        "id": "q4vl9S2gQiJ2",
        "outputId": "11a37d90-c784-4c71-ad21-5b0ed5416676",
        "colab": {
          "base_uri": "https://localhost:8080/",
          "height": 243
        }
      },
      "source": [
        "conv1.state_dict()['weight'][0][0] = torch.tensor([[1.0,0.0,-1.0],\n",
        "                                      [2.0,0.0,-2.0],\n",
        "                                      [1.0,0.0,-1.0]])\n",
        "conv1.state_dict()['weight'][1][0] = torch.tensor([[1.0,2.0,1.0],\n",
        "                                      [0.0,0.0,0.0],\n",
        "                                      [-1.0,-2.0,-1.0]])\n",
        "conv1.state_dict()['weight'][2][0] = torch.ones(3,3)\n",
        "conv1.state_dict()['weight']"
      ],
      "execution_count": 4,
      "outputs": [
        {
          "output_type": "execute_result",
          "data": {
            "text/plain": [
              "tensor([[[[ 1.,  0., -1.],\n",
              "          [ 2.,  0., -2.],\n",
              "          [ 1.,  0., -1.]]],\n",
              "\n",
              "\n",
              "        [[[ 1.,  2.,  1.],\n",
              "          [ 0.,  0.,  0.],\n",
              "          [-1., -2., -1.]]],\n",
              "\n",
              "\n",
              "        [[[ 1.,  1.,  1.],\n",
              "          [ 1.,  1.,  1.],\n",
              "          [ 1.,  1.,  1.]]]])"
            ]
          },
          "metadata": {
            "tags": []
          },
          "execution_count": 4
        }
      ]
    },
    {
      "cell_type": "code",
      "metadata": {
        "id": "-VNea2RHQ2Uj",
        "outputId": "4f2a1e67-4ec7-4ce6-b7e0-bdcf507775b3",
        "colab": {
          "base_uri": "https://localhost:8080/",
          "height": 35
        }
      },
      "source": [
        "conv1.state_dict()['bias'][:] = torch.tensor([0.0,0.0,0.0])\n",
        "conv1.state_dict()['bias']"
      ],
      "execution_count": 5,
      "outputs": [
        {
          "output_type": "execute_result",
          "data": {
            "text/plain": [
              "tensor([0., 0., 0.])"
            ]
          },
          "metadata": {
            "tags": []
          },
          "execution_count": 5
        }
      ]
    },
    {
      "cell_type": "code",
      "metadata": {
        "id": "nVkGbw1DSVnw",
        "outputId": "6f5e0b3d-1316-401c-af8f-ae1a35beb351",
        "colab": {
          "base_uri": "https://localhost:8080/",
          "height": 104
        }
      },
      "source": [
        "image = torch.zeros(1,1,5,5)\n",
        "image[0,0,:,2] = 1\n",
        "image"
      ],
      "execution_count": 6,
      "outputs": [
        {
          "output_type": "execute_result",
          "data": {
            "text/plain": [
              "tensor([[[[0., 0., 1., 0., 0.],\n",
              "          [0., 0., 1., 0., 0.],\n",
              "          [0., 0., 1., 0., 0.],\n",
              "          [0., 0., 1., 0., 0.],\n",
              "          [0., 0., 1., 0., 0.]]]])"
            ]
          },
          "metadata": {
            "tags": []
          },
          "execution_count": 6
        }
      ]
    },
    {
      "cell_type": "code",
      "metadata": {
        "id": "4DXmWaeIS4iQ",
        "outputId": "8679d6d4-96c1-438e-9694-e59bf2105e6a",
        "colab": {
          "base_uri": "https://localhost:8080/",
          "height": 269
        }
      },
      "source": [
        "plt.imshow(image[0,0,:,:].numpy(),interpolation='nearest',cmap=plt.cm.gray)\n",
        "plt.colorbar()\n",
        "plt.show()"
      ],
      "execution_count": 7,
      "outputs": [
        {
          "output_type": "display_data",
          "data": {
            "image/png": "[encoded data removed]",
            "text/plain": [
              "<Figure size 432x288 with 2 Axes>"
            ]
          },
          "metadata": {
            "tags": [],
            "needs_background": "light"
          }
        }
      ]
    },
    {
      "cell_type": "code",
      "metadata": {
        "id": "8cTjL8xxTdVO",
        "outputId": "b9f9705a-222b-45ba-9450-ddb34a0f0078",
        "colab": {
          "base_uri": "https://localhost:8080/",
          "height": 35
        }
      },
      "source": [
        "out = conv1(image)\n",
        "out.shape"
      ],
      "execution_count": 8,
      "outputs": [
        {
          "output_type": "execute_result",
          "data": {
            "text/plain": [
              "torch.Size([1, 3, 3, 3])"
            ]
          },
          "metadata": {
            "tags": []
          },
          "execution_count": 8
        }
      ]
    },
    {
      "cell_type": "code",
      "metadata": {
        "id": "Hb0VAxvlUDbK",
        "outputId": "8ff9cf1e-955e-4215-b475-0451aa273bee",
        "colab": {
          "base_uri": "https://localhost:8080/",
          "height": 965
        }
      },
      "source": [
        "for channel,image in enumerate(out[0]):\n",
        "    plt.imshow(image.detach().numpy(), interpolation='nearest', cmap=plt.cm.gray)\n",
        "    print(image)\n",
        "    plt.title(f'channel : {channel}')\n",
        "    plt.colorbar()\n",
        "    plt.show()"
      ],
      "execution_count": 9,
      "outputs": [
        {
          "output_type": "stream",
          "text": [
            "tensor([[-4.,  0.,  4.],\n",
            "        [-4.,  0.,  4.],\n",
            "        [-4.,  0.,  4.]], grad_fn=<SelectBackward>)\n"
          ],
          "name": "stdout"
        },
        {
          "output_type": "display_data",
          "data": {
            "image/png": "[encoded data removed]",
            "text/plain": [
              "<Figure size 432x288 with 2 Axes>"
            ]
          },
          "metadata": {
            "tags": [],
            "needs_background": "light"
          }
        },
        {
          "output_type": "stream",
          "text": [
            "tensor([[0., 0., 0.],\n",
            "        [0., 0., 0.],\n",
            "        [0., 0., 0.]], grad_fn=<SelectBackward>)\n"
          ],
          "name": "stdout"
        },
        {
          "output_type": "display_data",
          "data": {
            "image/png": "[encoded data removed]",
            "text/plain": [
              "<Figure size 432x288 with 2 Axes>"
            ]
          },
          "metadata": {
            "tags": [],
            "needs_background": "light"
          }
        },
        {
          "output_type": "stream",
          "text": [
            "tensor([[3., 3., 3.],\n",
            "        [3., 3., 3.],\n",
            "        [3., 3., 3.]], grad_fn=<SelectBackward>)\n"
          ],
          "name": "stdout"
        },
        {
          "output_type": "display_data",
          "data": {
            "image/png": "[encoded data removed]",
            "text/plain": [
              "<Figure size 432x288 with 2 Axes>"
            ]
          },
          "metadata": {
            "tags": [],
            "needs_background": "light"
          }
        }
      ]
    },
    {
      "cell_type": "code",
      "metadata": {
        "id": "Fty8ZF4UUemY",
        "outputId": "e87b0aad-daef-459c-b8fd-69991e4c615e",
        "colab": {
          "base_uri": "https://localhost:8080/",
          "height": 104
        }
      },
      "source": [
        "image1 = torch.zeros(1,1,5,5)\n",
        "image1[0,0,2,:] = 1\n",
        "image1"
      ],
      "execution_count": 10,
      "outputs": [
        {
          "output_type": "execute_result",
          "data": {
            "text/plain": [
              "tensor([[[[0., 0., 0., 0., 0.],\n",
              "          [0., 0., 0., 0., 0.],\n",
              "          [1., 1., 1., 1., 1.],\n",
              "          [0., 0., 0., 0., 0.],\n",
              "          [0., 0., 0., 0., 0.]]]])"
            ]
          },
          "metadata": {
            "tags": []
          },
          "execution_count": 10
        }
      ]
    },
    {
      "cell_type": "code",
      "metadata": {
        "id": "G9yphX8nVAJK",
        "outputId": "afb6f873-b7c9-4d94-b47f-4a7656aeff14",
        "colab": {
          "base_uri": "https://localhost:8080/",
          "height": 269
        }
      },
      "source": [
        "plt.imshow(image1[0,0,:,:].numpy(),interpolation='nearest',cmap=plt.cm.gray)\n",
        "plt.colorbar()\n",
        "plt.show()"
      ],
      "execution_count": 11,
      "outputs": [
        {
          "output_type": "display_data",
          "data": {
            "image/png": "[encoded data removed]",
            "text/plain": [
              "<Figure size 432x288 with 2 Axes>"
            ]
          },
          "metadata": {
            "tags": [],
            "needs_background": "light"
          }
        }
      ]
    },
    {
      "cell_type": "code",
      "metadata": {
        "id": "qpXUp4bYVL_0",
        "outputId": "81dc71a7-31a5-4e31-c94f-83ab3a05d22a",
        "colab": {
          "base_uri": "https://localhost:8080/",
          "height": 965
        }
      },
      "source": [
        "out1 = conv1(image1)\n",
        "for channel,image in enumerate(out1[0]):\n",
        "    plt.imshow(image.detach().numpy(), interpolation='nearest', cmap=plt.cm.gray)\n",
        "    print(image)\n",
        "    plt.title(f'channel : {channel}')\n",
        "    plt.colorbar()\n",
        "    plt.show()"
      ],
      "execution_count": 12,
      "outputs": [
        {
          "output_type": "stream",
          "text": [
            "tensor([[0., 0., 0.],\n",
            "        [0., 0., 0.],\n",
            "        [0., 0., 0.]], grad_fn=<SelectBackward>)\n"
          ],
          "name": "stdout"
        },
        {
          "output_type": "display_data",
          "data": {
            "image/png": "[encoded data removed]",
            "text/plain": [
              "<Figure size 432x288 with 2 Axes>"
            ]
          },
          "metadata": {
            "tags": [],
            "needs_background": "light"
          }
        },
        {
          "output_type": "stream",
          "text": [
            "tensor([[-4., -4., -4.],\n",
            "        [ 0.,  0.,  0.],\n",
            "        [ 4.,  4.,  4.]], grad_fn=<SelectBackward>)\n"
          ],
          "name": "stdout"
        },
        {
          "output_type": "display_data",
          "data": {
            "image/png": "[encoded data removed]",
            "text/plain": [
              "<Figure size 432x288 with 2 Axes>"
            ]
          },
          "metadata": {
            "tags": [],
            "needs_background": "light"
          }
        },
        {
          "output_type": "stream",
          "text": [
            "tensor([[3., 3., 3.],\n",
            "        [3., 3., 3.],\n",
            "        [3., 3., 3.]], grad_fn=<SelectBackward>)\n"
          ],
          "name": "stdout"
        },
        {
          "output_type": "display_data",
          "data": {
            "image/png": "[encoded data removed]",
            "text/plain": [
              "<Figure size 432x288 with 2 Axes>"
            ]
          },
          "metadata": {
            "tags": [],
            "needs_background": "light"
          }
        }
      ]
    },
    {
      "cell_type": "code",
      "metadata": {
        "id": "jWQpAvMjOwGi",
        "outputId": "85fbbcf1-f445-4fd4-ed69-ecd92ae69569",
        "colab": {
          "base_uri": "https://localhost:8080/",
          "height": 208
        }
      },
      "source": [
        "image2 = torch.zeros(1,2,5,5)\n",
        "image2[0,0,2,:] = -2\n",
        "image2[0,1,2,:] = 1 \n",
        "image2"
      ],
      "execution_count": 13,
      "outputs": [
        {
          "output_type": "execute_result",
          "data": {
            "text/plain": [
              "tensor([[[[ 0.,  0.,  0.,  0.,  0.],\n",
              "          [ 0.,  0.,  0.,  0.,  0.],\n",
              "          [-2., -2., -2., -2., -2.],\n",
              "          [ 0.,  0.,  0.,  0.,  0.],\n",
              "          [ 0.,  0.,  0.,  0.,  0.]],\n",
              "\n",
              "         [[ 0.,  0.,  0.,  0.,  0.],\n",
              "          [ 0.,  0.,  0.,  0.,  0.],\n",
              "          [ 1.,  1.,  1.,  1.,  1.],\n",
              "          [ 0.,  0.,  0.,  0.,  0.],\n",
              "          [ 0.,  0.,  0.,  0.,  0.]]]])"
            ]
          },
          "metadata": {
            "tags": []
          },
          "execution_count": 13
        }
      ]
    },
    {
      "cell_type": "code",
      "metadata": {
        "id": "dj0u2-C2PHGn",
        "outputId": "01aef121-f527-4f14-9be4-245856fd857c",
        "colab": {
          "base_uri": "https://localhost:8080/",
          "height": 719
        }
      },
      "source": [
        "for channel,image in enumerate(image2[0]):\n",
        "    plt.imshow(image.detach().numpy(), interpolation='nearest', cmap=plt.cm.gray)\n",
        "    print(image)\n",
        "    plt.title(\"channel {}\".format(channel))\n",
        "    plt.colorbar()\n",
        "    plt.show()"
      ],
      "execution_count": 14,
      "outputs": [
        {
          "output_type": "stream",
          "text": [
            "tensor([[ 0.,  0.,  0.,  0.,  0.],\n",
            "        [ 0.,  0.,  0.,  0.,  0.],\n",
            "        [-2., -2., -2., -2., -2.],\n",
            "        [ 0.,  0.,  0.,  0.,  0.],\n",
            "        [ 0.,  0.,  0.,  0.,  0.]])\n"
          ],
          "name": "stdout"
        },
        {
          "output_type": "display_data",
          "data": {
            "image/png": "[encoded data removed]",
            "text/plain": [
              "<Figure size 432x288 with 2 Axes>"
            ]
          },
          "metadata": {
            "tags": [],
            "needs_background": "light"
          }
        },
        {
          "output_type": "stream",
          "text": [
            "tensor([[0., 0., 0., 0., 0.],\n",
            "        [0., 0., 0., 0., 0.],\n",
            "        [1., 1., 1., 1., 1.],\n",
            "        [0., 0., 0., 0., 0.],\n",
            "        [0., 0., 0., 0., 0.]])\n"
          ],
          "name": "stdout"
        },
        {
          "output_type": "display_data",
          "data": {
            "image/png": "[encoded data removed]",
            "text/plain": [
              "<Figure size 432x288 with 2 Axes>"
            ]
          },
          "metadata": {
            "tags": [],
            "needs_background": "light"
          }
        }
      ]
    },
    {
      "cell_type": "code",
      "metadata": {
        "id": "RaqVO1zZVc0F"
      },
      "source": [
        "conv3 = nn.Conv2d(in_channels=2,out_channels=1,kernel_size=3)"
      ],
      "execution_count": 15,
      "outputs": []
    },
    {
      "cell_type": "code",
      "metadata": {
        "id": "FriXsNoXWyxI",
        "outputId": "cd52de67-a1cf-44f0-8ab7-1f572fb8cc5f",
        "colab": {
          "base_uri": "https://localhost:8080/",
          "height": 139
        }
      },
      "source": [
        "conv3.state_dict()['weight']"
      ],
      "execution_count": 16,
      "outputs": [
        {
          "output_type": "execute_result",
          "data": {
            "text/plain": [
              "tensor([[[[ 0.0761,  0.1851,  0.1121],\n",
              "          [-0.1181, -0.2051, -0.0533],\n",
              "          [-0.1168,  0.2248,  0.2094]],\n",
              "\n",
              "         [[-0.1130,  0.1770, -0.0152],\n",
              "          [-0.1872,  0.1334,  0.0679],\n",
              "          [ 0.0073,  0.0073, -0.1927]]]])"
            ]
          },
          "metadata": {
            "tags": []
          },
          "execution_count": 16
        }
      ]
    },
    {
      "cell_type": "code",
      "metadata": {
        "id": "XLoARO_ENCI1"
      },
      "source": [
        "conv3.state_dict()['weight'][0][0] = torch.tensor([[0.0,0.0,0.0],\n",
        "                                      [0.0,1.0,0.0],\n",
        "                                      [0.0,0.0,0.0]])\n",
        "conv3.state_dict()['weight'][0][1] = torch.tensor([[0.0,0.0,0.0],\n",
        "                                      [0.0,-2.0,0.0],\n",
        "                                      [0.0,0.0,0.0]])\n",
        "conv3.state_dict()['bias'][:] = torch.tensor([0.0])"
      ],
      "execution_count": 17,
      "outputs": []
    },
    {
      "cell_type": "code",
      "metadata": {
        "id": "k5J9A58yN9jW",
        "outputId": "fae7b281-2137-4e69-dc98-f6e6e2ef3b84",
        "colab": {
          "base_uri": "https://localhost:8080/",
          "height": 139
        }
      },
      "source": [
        "conv3.state_dict()['weight']"
      ],
      "execution_count": 18,
      "outputs": [
        {
          "output_type": "execute_result",
          "data": {
            "text/plain": [
              "tensor([[[[ 0.,  0.,  0.],\n",
              "          [ 0.,  1.,  0.],\n",
              "          [ 0.,  0.,  0.]],\n",
              "\n",
              "         [[ 0.,  0.,  0.],\n",
              "          [ 0., -2.,  0.],\n",
              "          [ 0.,  0.,  0.]]]])"
            ]
          },
          "metadata": {
            "tags": []
          },
          "execution_count": 18
        }
      ]
    },
    {
      "cell_type": "code",
      "metadata": {
        "id": "xZc_vXYiOjEx",
        "outputId": "275931e7-645e-4c1f-e002-d97b6f85d628",
        "colab": {
          "base_uri": "https://localhost:8080/",
          "height": 69
        }
      },
      "source": [
        "conv3(image2)"
      ],
      "execution_count": 19,
      "outputs": [
        {
          "output_type": "execute_result",
          "data": {
            "text/plain": [
              "tensor([[[[ 0.,  0.,  0.],\n",
              "          [-4., -4., -4.],\n",
              "          [ 0.,  0.,  0.]]]], grad_fn=<MkldnnConvolutionBackward>)"
            ]
          },
          "metadata": {
            "tags": []
          },
          "execution_count": 19
        }
      ]
    },
    {
      "cell_type": "code",
      "metadata": {
        "id": "7xxdFIOOPOmy",
        "outputId": "dae026fd-347c-4c08-bd1a-57569dd94d96",
        "colab": {
          "base_uri": "https://localhost:8080/",
          "height": 719
        }
      },
      "source": [
        "#multiple input and output channels\n",
        "image4 = torch.zeros(1,2,5,5)\n",
        "image4[0][0] = torch.ones(5,5)\n",
        "image4[0][1][2][2] = 1\n",
        "for channel,image in enumerate(image4[0]):\n",
        "  plt.imshow(image.detach().numpy(), interpolation='nearest', cmap=plt.cm.gray)\n",
        "  print(image)\n",
        "  plt.title(\"channel {}\".format(channel))\n",
        "  plt.colorbar()\n",
        "  plt.show()"
      ],
      "execution_count": 20,
      "outputs": [
        {
          "output_type": "stream",
          "text": [
            "tensor([[1., 1., 1., 1., 1.],\n",
            "        [1., 1., 1., 1., 1.],\n",
            "        [1., 1., 1., 1., 1.],\n",
            "        [1., 1., 1., 1., 1.],\n",
            "        [1., 1., 1., 1., 1.]])\n"
          ],
          "name": "stdout"
        },
        {
          "output_type": "display_data",
          "data": {
            "image/png": "[encoded data removed]",
            "text/plain": [
              "<Figure size 432x288 with 2 Axes>"
            ]
          },
          "metadata": {
            "tags": [],
            "needs_background": "light"
          }
        },
        {
          "output_type": "stream",
          "text": [
            "tensor([[0., 0., 0., 0., 0.],\n",
            "        [0., 0., 0., 0., 0.],\n",
            "        [0., 0., 1., 0., 0.],\n",
            "        [0., 0., 0., 0., 0.],\n",
            "        [0., 0., 0., 0., 0.]])\n"
          ],
          "name": "stdout"
        },
        {
          "output_type": "display_data",
          "data": {
            "image/png": "[encoded data removed]",
            "text/plain": [
              "<Figure size 432x288 with 2 Axes>"
            ]
          },
          "metadata": {
            "tags": [],
            "needs_background": "light"
          }
        }
      ]
    },
    {
      "cell_type": "code",
      "metadata": {
        "id": "Z5FlC4yGxiKW"
      },
      "source": [
        "conv4 = nn.Conv2d(in_channels=2,out_channels=3,kernel_size=3)\n",
        "conv4.state_dict()['weight'][0][0] = torch.tensor([[0.0,0.0,0.0],\n",
        "                                                  [0.0,0.5,0.0],\n",
        "                                                  [0.0,0.0,0.0]])\n",
        "conv4.state_dict()['weight'][0][1] = torch.tensor([[0.0,0.0,0.0],\n",
        "                                                  [0.0,0.5,0.0],\n",
        "                                                  [0.0,0.0,0.0]])\n",
        "\n",
        "conv4.state_dict()['weight'][1][0] = torch.tensor([[0.0,0.0,0.0],\n",
        "                                                  [0.0,1.0,0.0],\n",
        "                                                  [0.0,0.0,0.0]])\n",
        "conv4.state_dict()['weight'][1][1] = torch.tensor([[0.0,0.0,0.0],\n",
        "                                                  [0.0,-1.0,0.0],\n",
        "                                                  [0.0,0.0,0.0]])\n",
        "\n",
        "conv4.state_dict()['weight'][2][0] = torch.tensor([[1.0,0.0,-1.0],\n",
        "                                                  [2.0,0.0,-2.0],\n",
        "                                                  [1.0,0.0,-1.0]])\n",
        "conv4.state_dict()['weight'][2][1] = torch.tensor([[1.0,2.0,1.0],\n",
        "                                                  [0.0,0.0,0.0],\n",
        "                                                  [-1.0,-2.0,-1.0]])\n",
        "\n",
        "conv4.state_dict()['bias'][:] = torch.tensor([0.0,0.0,0.0]) "
      ],
      "execution_count": 24,
      "outputs": []
    },
    {
      "cell_type": "code",
      "metadata": {
        "id": "orJ6E4Exx-Ze",
        "outputId": "1deeef88-d7f9-45d2-ea5a-96a9b7692185",
        "colab": {
          "base_uri": "https://localhost:8080/",
          "height": 208
        }
      },
      "source": [
        "z = conv4(image4)\n",
        "z"
      ],
      "execution_count": 26,
      "outputs": [
        {
          "output_type": "execute_result",
          "data": {
            "text/plain": [
              "tensor([[[[ 0.5000,  0.5000,  0.5000],\n",
              "          [ 0.5000,  1.0000,  0.5000],\n",
              "          [ 0.5000,  0.5000,  0.5000]],\n",
              "\n",
              "         [[ 1.0000,  1.0000,  1.0000],\n",
              "          [ 1.0000,  0.0000,  1.0000],\n",
              "          [ 1.0000,  1.0000,  1.0000]],\n",
              "\n",
              "         [[-1.0000, -2.0000, -1.0000],\n",
              "          [ 0.0000,  0.0000,  0.0000],\n",
              "          [ 1.0000,  2.0000,  1.0000]]]], grad_fn=<MkldnnConvolutionBackward>)"
            ]
          },
          "metadata": {
            "tags": []
          },
          "execution_count": 26
        }
      ]
    },
    {
      "cell_type": "code",
      "metadata": {
        "id": "eQJ0nN2kzrFL"
      },
      "source": [
        ""
      ],
      "execution_count": null,
      "outputs": []
    }
  ]
}