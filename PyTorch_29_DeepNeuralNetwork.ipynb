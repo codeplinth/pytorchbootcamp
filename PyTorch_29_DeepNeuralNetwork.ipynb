{
  "nbformat": 4,
  "nbformat_minor": 0,
  "metadata": {
    "colab": {
      "name": "PyTorch_29_DeepNeuralNetwork.ipynb",
      "provenance": [],
      "collapsed_sections": [],
      "authorship_tag": "ABX9TyNvqCcmA1XWYD3pfI6He+sX",
      "include_colab_link": true
    },
    "kernelspec": {
      "name": "python3",
      "display_name": "Python 3"
    }
  },
  "cells": [
    {
      "cell_type": "markdown",
      "metadata": {
        "id": "view-in-github",
        "colab_type": "text"
      },
      "source": [
        "<a href=\"https://colab.research.google.com/github/codeplinth/pytorchbootcamp/blob/master/PyTorch_29_DeepNeuralNetwork.ipynb\" target=\"_parent\"><img src=\"https://colab.research.google.com/assets/colab-badge.svg\" alt=\"Open In Colab\"/></a>"
      ]
    },
    {
      "cell_type": "code",
      "metadata": {
        "id": "cnL81CDgnUwn",
        "colab_type": "code",
        "colab": {}
      },
      "source": [
        "import torch\n",
        "from torch import nn,optim\n",
        "from torch.utils.data import Dataset,DataLoader\n",
        "import torchvision\n",
        "from torchvision import datasets,transforms\n",
        "import matplotlib.pyplot as plt\n",
        "%matplotlib inline"
      ],
      "execution_count": null,
      "outputs": []
    },
    {
      "cell_type": "code",
      "metadata": {
        "id": "S0rNjuYRoOh9",
        "colab_type": "code",
        "colab": {
          "base_uri": "https://localhost:8080/",
          "height": 35
        },
        "outputId": "c8280c8c-70e8-465a-d961-1f6b70fbce41"
      },
      "source": [
        "torch.manual_seed(2)"
      ],
      "execution_count": null,
      "outputs": [
        {
          "output_type": "execute_result",
          "data": {
            "text/plain": [
              "<torch._C.Generator at 0x7ffa89d301c8>"
            ]
          },
          "metadata": {
            "tags": []
          },
          "execution_count": 32
        }
      ]
    },
    {
      "cell_type": "code",
      "metadata": {
        "id": "BIByxLxj26Gg",
        "colab_type": "code",
        "colab": {}
      },
      "source": [
        "#Create a Deep Neural network using Sigmoid activation\n",
        "class Sigmoid_Net(nn.Module):\n",
        "  def __init__(self,D_in,H1,H2,D_out):\n",
        "    super(Sigmoid_Net,self).__init__()\n",
        "    self.l1 = nn.Linear(D_in,H1)\n",
        "    self.l2 = nn.Linear(H1,H2)\n",
        "    self.l3 = nn.Linear(H2,D_out)\n",
        "    self.sigmoid = nn.Sigmoid()\n",
        "  def forward(self,x):\n",
        "    out1 = self.sigmoid(self.l1(x))\n",
        "    out2 = self.sigmoid(self.l2(out1))\n",
        "    y_pred = self.l3(out2)\n",
        "    return y_pred"
      ],
      "execution_count": null,
      "outputs": []
    },
    {
      "cell_type": "code",
      "metadata": {
        "id": "-esEP7ZW6AHC",
        "colab_type": "code",
        "colab": {}
      },
      "source": [
        "#Create a Deep Neural network using Tanh activation\n",
        "class Tanh_Net(nn.Module):\n",
        "  def __init__(self,D_in,H1,H2,D_out):\n",
        "    super(Tanh_Net,self).__init__()\n",
        "    self.l1 = nn.Linear(D_in,H1)\n",
        "    self.l2 = nn.Linear(H1,H2)\n",
        "    self.l3 = nn.Linear(H2,D_out)\n",
        "    self.tanh = nn.Tanh()\n",
        "  def forward(self,x):\n",
        "    out1 = self.tanh(self.l1(x))\n",
        "    out2 = self.tanh(self.l2(out1))\n",
        "    y_pred = self.l3(out2)\n",
        "    return y_pred"
      ],
      "execution_count": null,
      "outputs": []
    },
    {
      "cell_type": "code",
      "metadata": {
        "id": "zViRZZs66HVO",
        "colab_type": "code",
        "colab": {}
      },
      "source": [
        "#Create a Deep Neural network using ReLU activation\n",
        "class ReLU_Net(nn.Module):\n",
        "  def __init__(self,D_in,H1,H2,D_out):\n",
        "    super(ReLU_Net,self).__init__()\n",
        "    self.l1 = nn.Linear(D_in,H1)\n",
        "    self.l2 = nn.Linear(H1,H2)\n",
        "    self.l3 = nn.Linear(H2,D_out)\n",
        "    self.relu = nn.ReLU()\n",
        "  def forward(self,x):\n",
        "    out1 = self.relu(self.l1(x))\n",
        "    out2 = self.relu(self.l2(out1))\n",
        "    y_pred = self.l3(out2)\n",
        "    return y_pred"
      ],
      "execution_count": null,
      "outputs": []
    },
    {
      "cell_type": "code",
      "metadata": {
        "id": "c51OjwYD6QbF",
        "colab_type": "code",
        "colab": {}
      },
      "source": [
        "#Define the training function\n",
        "def train_model(model,optimizer,criterion,trainloader,validationloader,EPOCHS=100):\n",
        "  metrics = {'training_loss':[] ,'validation_accuracy':[]}\n",
        "  for epoch in range(EPOCHS):\n",
        "    for _,(x,y) in enumerate(trainloader):\n",
        "      z_pred = model(x.view(-1,1*28*28))\n",
        "      loss = criterion(z_pred,y)\n",
        "      optimizer.zero_grad()\n",
        "      loss.backward()\n",
        "      optimizer.step()\n",
        "      metrics['training_loss'].append(loss.item())\n",
        "\n",
        "    correct = 0  \n",
        "    for x_val,y_val in validationloader:\n",
        "      z = model(x_val.view(-1,1*28*28))\n",
        "      _,y_pred = torch.max(z,1)\n",
        "      correct += (y_pred == y_val).sum().item()\n",
        "    \n",
        "    accuracy = (100 * correct)/len(validation_dataset)\n",
        "    metrics['validation_accuracy'].append(accuracy)\n",
        "  \n",
        "  return metrics"
      ],
      "execution_count": null,
      "outputs": []
    },
    {
      "cell_type": "code",
      "metadata": {
        "id": "ov9X2-u5Gwgv",
        "colab_type": "code",
        "colab": {}
      },
      "source": [
        "#create the training dataset\n",
        "train_dataset = datasets.MNIST(root = '../mnist_data',train=True,transform = transforms.ToTensor(),download=True)"
      ],
      "execution_count": null,
      "outputs": []
    },
    {
      "cell_type": "code",
      "metadata": {
        "id": "XGHV-zvKHMXA",
        "colab_type": "code",
        "colab": {}
      },
      "source": [
        "#create the validiton dataset\n",
        "validation_dataset = datasets.MNIST(root = '../mnist_data',train=False,transform = transforms.ToTensor(),download=True)"
      ],
      "execution_count": null,
      "outputs": []
    },
    {
      "cell_type": "code",
      "metadata": {
        "id": "ogme46YtHReq",
        "colab_type": "code",
        "colab": {}
      },
      "source": [
        "#create the criterion \n",
        "criterion = nn.CrossEntropyLoss()"
      ],
      "execution_count": null,
      "outputs": []
    },
    {
      "cell_type": "code",
      "metadata": {
        "id": "QOoP0sMwHjLL",
        "colab_type": "code",
        "colab": {}
      },
      "source": [
        "#create train and validation loader\n",
        "trainloader = DataLoader(dataset=train_dataset,batch_size=2000,shuffle=True)\n",
        "validationloader = DataLoader(dataset=validation_dataset,batch_size=5000,shuffle=False)"
      ],
      "execution_count": null,
      "outputs": []
    },
    {
      "cell_type": "code",
      "metadata": {
        "id": "jjEjAAphJaI3",
        "colab_type": "code",
        "colab": {}
      },
      "source": [
        "#set the parameters for the model\n",
        "D_in = 1*28*28\n",
        "H1 = 50\n",
        "H2 = 50\n",
        "D_out = 10\n",
        "EPOCHS = 10\n",
        "learning_rate = 0.01"
      ],
      "execution_count": null,
      "outputs": []
    },
    {
      "cell_type": "code",
      "metadata": {
        "id": "sG3oRgmQKCvz",
        "colab_type": "code",
        "colab": {}
      },
      "source": [
        "#Model training with Sigmoid function\n",
        "model_sigmoid = Sigmoid_Net(D_in,H1,H2,D_out)\n",
        "optimizer = optim.SGD(model_sigmoid.parameters(),lr= learning_rate)\n",
        "metrics_sigmoid=train_model(model_sigmoid,optimizer,criterion,trainloader,validationloader,EPOCHS)"
      ],
      "execution_count": null,
      "outputs": []
    },
    {
      "cell_type": "code",
      "metadata": {
        "id": "ltSM_u4hLAmA",
        "colab_type": "code",
        "colab": {}
      },
      "source": [
        "#Model training with Tanh function\n",
        "model_tanh = Tanh_Net(D_in,H1,H2,D_out)\n",
        "optimizer = optim.SGD(model_tanh.parameters(),lr= learning_rate)\n",
        "metrics_tanh =train_model(model_tanh,optimizer,criterion,trainloader,validationloader,EPOCHS)"
      ],
      "execution_count": null,
      "outputs": []
    },
    {
      "cell_type": "code",
      "metadata": {
        "id": "YjZ1KI8PLUl6",
        "colab_type": "code",
        "colab": {}
      },
      "source": [
        "#Model training with ReLU function\n",
        "model_relu = ReLU_Net(D_in,H1,H2,D_out)\n",
        "optimizer = optim.SGD(model_relu.parameters(),lr= learning_rate)\n",
        "metrics_relu=train_model(model_relu,optimizer,criterion,trainloader,validationloader,EPOCHS)"
      ],
      "execution_count": null,
      "outputs": []
    },
    {
      "cell_type": "code",
      "metadata": {
        "id": "JzAHJlXrLdlg",
        "colab_type": "code",
        "colab": {
          "base_uri": "https://localhost:8080/",
          "height": 279
        },
        "outputId": "b36327f1-e164-480d-8dcd-9e7c466afe73"
      },
      "source": [
        "#compare training loss\n",
        "plt.plot(metrics_sigmoid['training_loss'],label='Sigmoid')\n",
        "plt.plot(metrics_tanh['training_loss'],label='Tanh')\n",
        "plt.plot(metrics_relu['training_loss'],label='ReLU')\n",
        "plt.xlabel('Iterations')\n",
        "plt.ylabel('Loss')\n",
        "plt.legend()\n",
        "plt.show()"
      ],
      "execution_count": null,
      "outputs": [
        {
          "output_type": "display_data",
          "data": {
            "image/png": "[encoded data removed]",
            "text/plain": [
              "<Figure size 432x288 with 1 Axes>"
            ]
          },
          "metadata": {
            "tags": [],
            "needs_background": "light"
          }
        }
      ]
    },
    {
      "cell_type": "code",
      "metadata": {
        "id": "Myaj8HWtL2v_",
        "colab_type": "code",
        "colab": {
          "base_uri": "https://localhost:8080/",
          "height": 279
        },
        "outputId": "8094fb2a-2f04-455f-85af-194de19276b4"
      },
      "source": [
        "#compare validaiton accuracy\n",
        "plt.plot(metrics_sigmoid['validation_accuracy'],label='Sigmoid')\n",
        "plt.plot(metrics_tanh['validation_accuracy'],label='Tanh')\n",
        "plt.plot(metrics_relu['validation_accuracy'],label='ReLU')\n",
        "plt.xlabel('Epochs')\n",
        "plt.ylabel('Accuracy')\n",
        "plt.legend()\n",
        "plt.show()"
      ],
      "execution_count": null,
      "outputs": [
        {
          "output_type": "display_data",
          "data": {
            "image/png": "[encoded data removed]",
            "text/plain": [
              "<Figure size 432x288 with 1 Axes>"
            ]
          },
          "metadata": {
            "tags": [],
            "needs_background": "light"
          }
        }
      ]
    }
  ]
}