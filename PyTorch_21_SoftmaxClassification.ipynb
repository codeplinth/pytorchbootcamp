{
  "nbformat": 4,
  "nbformat_minor": 0,
  "metadata": {
    "colab": {
      "name": "PyTorch_21_SoftmaxClassification.ipynb",
      "provenance": [],
      "collapsed_sections": [],
      "authorship_tag": "ABX9TyPLYWS4VO+kp8D4qA9sIm6v",
      "include_colab_link": true
    },
    "kernelspec": {
      "name": "python3",
      "display_name": "Python 3"
    }
  },
  "cells": [
    {
      "cell_type": "markdown",
      "metadata": {
        "id": "view-in-github",
        "colab_type": "text"
      },
      "source": [
        "<a href=\"https://colab.research.google.com/github/codeplinth/pytorchbootcamp/blob/master/PyTorch_21_SoftmaxClassification.ipynb\" target=\"_parent\"><img src=\"https://colab.research.google.com/assets/colab-badge.svg\" alt=\"Open In Colab\"/></a>"
      ]
    },
    {
      "cell_type": "code",
      "metadata": {
        "id": "NChloYw-26r-",
        "colab_type": "code",
        "colab": {}
      },
      "source": [
        "import torch\n",
        "from torch import nn,optim\n",
        "import matplotlib.pyplot as plt\n",
        "from torch.utils.data import Dataset,DataLoader\n",
        "%matplotlib inline"
      ],
      "execution_count": null,
      "outputs": []
    },
    {
      "cell_type": "code",
      "metadata": {
        "id": "Y2nhNUMT-PTT",
        "colab_type": "code",
        "colab": {}
      },
      "source": [
        "#set a random seed\n",
        "torch.manual_seed(0)"
      ],
      "execution_count": null,
      "outputs": []
    },
    {
      "cell_type": "code",
      "metadata": {
        "id": "mH8QevjR-W45",
        "colab_type": "code",
        "colab": {}
      },
      "source": [
        "#create the data class\n",
        "class SampleData(Dataset):\n",
        "  def __init__(self):\n",
        "    self.x = torch.arange(-2,2,0.1).view(-1,1)\n",
        "    self.y = torch.zeros(self.x.shape[0])\n",
        "    self.y[(self.x > -1.0)[:, 0] * (self.x < 1.0)[:, 0]] = 1\n",
        "    self.y[(self.x >= 1.0)[:, 0]] = 2\n",
        "    self.y = self.y.type(torch.LongTensor)\n",
        "    self.len = self.x.shape[0]\n",
        "  def __getitem__(self,idx):\n",
        "    return self.x[idx],self.y[idx]\n",
        "  def __len__(self):\n",
        "    return self.len\n"
      ],
      "execution_count": null,
      "outputs": []
    },
    {
      "cell_type": "code",
      "metadata": {
        "id": "j6torS5uBC1X",
        "colab_type": "code",
        "colab": {}
      },
      "source": [
        "#create a dataset object\n",
        "dataset = SampleData()"
      ],
      "execution_count": null,
      "outputs": []
    },
    {
      "cell_type": "code",
      "metadata": {
        "id": "K7oHP9LIBm_9",
        "colab_type": "code",
        "colab": {}
      },
      "source": [
        "#creat a Softmax classifier using Sequential module\n",
        "model = nn.Sequential(nn.Linear(1,3))\n",
        "model.state_dict()"
      ],
      "execution_count": null,
      "outputs": []
    },
    {
      "cell_type": "code",
      "metadata": {
        "id": "BYCfJeB3CG8k",
        "colab_type": "code",
        "colab": {}
      },
      "source": [
        "#create dataloader , criterion and optimizer \n",
        "dataloader = DataLoader(dataset=dataset,batch_size=5)\n",
        "criterion = nn.CrossEntropyLoss()\n",
        "optimizer = optim.SGD(model.parameters(),lr = 0.01)"
      ],
      "execution_count": null,
      "outputs": []
    },
    {
      "cell_type": "code",
      "metadata": {
        "id": "xanA6AzfDSS2",
        "colab_type": "code",
        "colab": {}
      },
      "source": [
        "#train the model\n",
        "LOSS = []\n",
        "ITERATIONS = []\n",
        "\n",
        "\n",
        "def train_model(epochs):\n",
        "  itr = 0\n",
        "  for epoch in range(epochs):\n",
        "    for x,y in dataloader:\n",
        "      itr += 1\n",
        "      y_pred = model(x)\n",
        "      loss = criterion(y_pred,y)\n",
        "      LOSS.append(loss.item())\n",
        "      ITERATIONS.append(itr)\n",
        "      #print('Iteraion  - {} Loss - {}'.format(itr,loss.item()))\n",
        "      optimizer.zero_grad()\n",
        "      loss.backward()\n",
        "      optimizer.step()\n",
        "\n",
        "train_model(300)\n"
      ],
      "execution_count": null,
      "outputs": []
    },
    {
      "cell_type": "code",
      "metadata": {
        "id": "oFST8titH-jf",
        "colab_type": "code",
        "colab": {}
      },
      "source": [
        "#make the prediction\n",
        "z = model(dataset.x)\n",
        "_,y_pred = z.max(1)\n",
        "print('Prediction {}'.format(y_pred))"
      ],
      "execution_count": null,
      "outputs": []
    },
    {
      "cell_type": "code",
      "metadata": {
        "id": "HYD7rPv1KBHe",
        "colab_type": "code",
        "colab": {}
      },
      "source": [
        "# Print the accuracy\n",
        "\n",
        "correct = (dataset.y == y_pred).sum().item()\n",
        "accuracy = correct / len(dataset)\n",
        "print(\"The accuracy: \", accuracy)"
      ],
      "execution_count": null,
      "outputs": []
    },
    {
      "cell_type": "code",
      "metadata": {
        "id": "rZ0WSoi3Kepy",
        "colab_type": "code",
        "colab": {}
      },
      "source": [
        "#converting outputs to probability\n",
        "softmax_fn = nn.Softmax(dim=-1)"
      ],
      "execution_count": null,
      "outputs": []
    },
    {
      "cell_type": "code",
      "metadata": {
        "id": "h6VuhFS_LBCS",
        "colab_type": "code",
        "colab": {}
      },
      "source": [
        "Probability =softmax_fn(z)"
      ],
      "execution_count": null,
      "outputs": []
    },
    {
      "cell_type": "code",
      "metadata": {
        "id": "GxU3BRkNLCn3",
        "colab_type": "code",
        "colab": {}
      },
      "source": [
        "for i in range(3):\n",
        "    print(\"probability of class {} is given by  {}\".format(i, Probability[0,i]) )"
      ],
      "execution_count": null,
      "outputs": []
    },
    {
      "cell_type": "code",
      "metadata": {
        "id": "S7-L5Uz1LHEa",
        "colab_type": "code",
        "colab": {}
      },
      "source": [
        ""
      ],
      "execution_count": null,
      "outputs": []
    }
  ]
}