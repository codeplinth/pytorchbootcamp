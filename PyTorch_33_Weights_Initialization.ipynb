{
  "nbformat": 4,
  "nbformat_minor": 0,
  "metadata": {
    "colab": {
      "name": "PyTorch_33_Weights_Initialization.ipynb",
      "provenance": [],
      "collapsed_sections": [],
      "authorship_tag": "ABX9TyPdNcSsk4zGN2u050i2c15I",
      "include_colab_link": true
    },
    "kernelspec": {
      "name": "python3",
      "display_name": "Python 3"
    }
  },
  "cells": [
    {
      "cell_type": "markdown",
      "metadata": {
        "id": "view-in-github",
        "colab_type": "text"
      },
      "source": [
        "<a href=\"https://colab.research.google.com/github/codeplinth/pytorchbootcamp/blob/master/PyTorch_33_Weights_Initialization.ipynb\" target=\"_parent\"><img src=\"https://colab.research.google.com/assets/colab-badge.svg\" alt=\"Open In Colab\"/></a>"
      ]
    },
    {
      "cell_type": "code",
      "metadata": {
        "id": "e-rJ_8t3p3WO",
        "colab_type": "code",
        "colab": {}
      },
      "source": [
        "import torch\n",
        "from torch import nn,optim\n",
        "from torch.utils.data import Dataset,DataLoader\n",
        "import matplotlib.pyplot as plt"
      ],
      "execution_count": 19,
      "outputs": []
    },
    {
      "cell_type": "code",
      "metadata": {
        "id": "O0NsPvMesI3c",
        "colab_type": "code",
        "colab": {
          "base_uri": "https://localhost:8080/",
          "height": 35
        },
        "outputId": "fbb8aadf-5ccd-4609-895d-40abc278dd27"
      },
      "source": [
        "torch.manual_seed(0)"
      ],
      "execution_count": 20,
      "outputs": [
        {
          "output_type": "execute_result",
          "data": {
            "text/plain": [
              "<torch._C.Generator at 0x7fd5a2497198>"
            ]
          },
          "metadata": {
            "tags": []
          },
          "execution_count": 20
        }
      ]
    },
    {
      "cell_type": "code",
      "metadata": {
        "id": "FamhxfdTsL7P",
        "colab_type": "code",
        "colab": {}
      },
      "source": [
        "#make some data\n",
        "X = torch.arange(-20,20,1).view(-1,1).type(torch.FloatTensor)\n",
        "Y = torch.zeros(X.shape[0])\n",
        "Y[(X[:, 0] > -4) & (X[:, 0] < 4)] = 1.0"
      ],
      "execution_count": 21,
      "outputs": []
    },
    {
      "cell_type": "code",
      "metadata": {
        "id": "34wKqp5YvqdM",
        "colab_type": "code",
        "colab": {}
      },
      "source": [
        "def plotData(X,Y,model,epoch,legend = True):\n",
        "  plt.plot(X.numpy(),model(X).detach().numpy(),label = ('Epoch' + str(epoch)))\n",
        "  plt.plot(X.numpy(),Y.numpy(),'r')\n",
        "  plt.xlabel('x')\n",
        "  if legend == True:\n",
        "    plt.legend()\n",
        "  else:\n",
        "    pass"
      ],
      "execution_count": 22,
      "outputs": []
    },
    {
      "cell_type": "code",
      "metadata": {
        "id": "R6CPZ3bTtBD5",
        "colab_type": "code",
        "colab": {}
      },
      "source": [
        "class NeuralNet(nn.Module):\n",
        "  def __init__(self,D_in,H,D_out):\n",
        "    super(NeuralNet,self).__init__()\n",
        "    self.l1 = nn.Linear(D_in,H)\n",
        "    self.l2 = nn.Linear(H,D_out)\n",
        "  \n",
        "  def forward(self,x):\n",
        "    out1 = torch.sigmoid(self.l1(x))\n",
        "    y_pred = torch.sigmoid(self.l2(out1))\n",
        "    return y_pred"
      ],
      "execution_count": 23,
      "outputs": []
    },
    {
      "cell_type": "code",
      "metadata": {
        "id": "geoi7eDOyF2K",
        "colab_type": "code",
        "colab": {}
      },
      "source": [
        "def train_model(X,Y,model,criterion,optimzer,EPOCHS=1000):\n",
        "  cost = []\n",
        "  for epoch in range(EPOCHS):\n",
        "    total = 0\n",
        "    for x,y in zip(X,Y):\n",
        "      y_pred = model(x)\n",
        "      loss = criterion(y_pred,y)\n",
        "      optimizer.zero_grad()\n",
        "      loss.backward()\n",
        "      optimizer.step()\n",
        "      total+=loss.item()\n",
        "    cost.append(total)\n",
        "    if epoch % 300 == 0:\n",
        "      plotData(X,Y,model,epoch,legend = True)\n",
        "      plt.show()\n",
        "  return cost"
      ],
      "execution_count": 24,
      "outputs": []
    },
    {
      "cell_type": "code",
      "metadata": {
        "id": "rJuvN17nz1-Y",
        "colab_type": "code",
        "colab": {}
      },
      "source": [
        "model = NeuralNet(1,2,1)"
      ],
      "execution_count": 25,
      "outputs": []
    },
    {
      "cell_type": "code",
      "metadata": {
        "id": "C9d2ath10isq",
        "colab_type": "code",
        "colab": {
          "base_uri": "https://localhost:8080/",
          "height": 104
        },
        "outputId": "d01400eb-ca9b-4363-b033-67f88f15095d"
      },
      "source": [
        "model.state_dict()"
      ],
      "execution_count": 26,
      "outputs": [
        {
          "output_type": "execute_result",
          "data": {
            "text/plain": [
              "OrderedDict([('l1.weight', tensor([[-0.0075],\n",
              "                      [ 0.5364]])),\n",
              "             ('l1.bias', tensor([-0.8230, -0.7359])),\n",
              "             ('l2.weight', tensor([[-0.2723,  0.1896]])),\n",
              "             ('l2.bias', tensor([-0.0140]))])"
            ]
          },
          "metadata": {
            "tags": []
          },
          "execution_count": 26
        }
      ]
    },
    {
      "cell_type": "code",
      "metadata": {
        "id": "yfl4JY5A0k5q",
        "colab_type": "code",
        "colab": {}
      },
      "source": [
        "model.state_dict()['l1.weight'][0] = 1.0\n",
        "model.state_dict()['l1.weight'][1] = 1.0\n",
        "model.state_dict()['l1.bias'][0] = 0.0\n",
        "model.state_dict()['l1.bias'][1] = 0.0\n",
        "model.state_dict()['l2.weight'][0] = 1.0\n",
        "model.state_dict()['l2.bias'][0] = 0.0"
      ],
      "execution_count": 27,
      "outputs": []
    },
    {
      "cell_type": "code",
      "metadata": {
        "id": "Iq46_2-K1i40",
        "colab_type": "code",
        "colab": {
          "base_uri": "https://localhost:8080/",
          "height": 104
        },
        "outputId": "32c043c0-ccdd-4575-e356-30d0600a227f"
      },
      "source": [
        "model.state_dict()"
      ],
      "execution_count": 28,
      "outputs": [
        {
          "output_type": "execute_result",
          "data": {
            "text/plain": [
              "OrderedDict([('l1.weight', tensor([[1.],\n",
              "                      [1.]])),\n",
              "             ('l1.bias', tensor([0., 0.])),\n",
              "             ('l2.weight', tensor([[1., 1.]])),\n",
              "             ('l2.bias', tensor([0.]))])"
            ]
          },
          "metadata": {
            "tags": []
          },
          "execution_count": 28
        }
      ]
    },
    {
      "cell_type": "code",
      "metadata": {
        "id": "EEZNjoVg10X5",
        "colab_type": "code",
        "colab": {
          "base_uri": "https://localhost:8080/",
          "height": 1000
        },
        "outputId": "e5e9357c-0268-4c07-a564-c4e1e1b2f0cf"
      },
      "source": [
        "criterion = nn.BCELoss()\n",
        "optimizer = optim.SGD(model.parameters(),lr = 0.01)\n",
        "cost = train_model(X,Y,model,criterion,optimizer)\n",
        "plt.plot(cost)\n",
        "plt.xlabel('Epochs')\n",
        "plt.show()"
      ],
      "execution_count": 29,
      "outputs": [
        {
          "output_type": "stream",
          "text": [
            "/usr/local/lib/python3.6/dist-packages/torch/nn/modules/loss.py:529: UserWarning: Using a target size (torch.Size([])) that is different to the input size (torch.Size([1])) is deprecated. Please ensure they have the same size.\n",
            "  return F.binary_cross_entropy(input, target, weight=self.weight, reduction=self.reduction)\n"
          ],
          "name": "stderr"
        },
        {
          "output_type": "display_data",
          "data": {
            "image/png": "[encoded data removed]",
            "text/plain": [
              "<Figure size 432x288 with 1 Axes>"
            ]
          },
          "metadata": {
            "tags": [],
            "needs_background": "light"
          }
        },
        {
          "output_type": "stream",
          "text": [
            "/usr/local/lib/python3.6/dist-packages/torch/nn/modules/loss.py:529: UserWarning: Using a target size (torch.Size([])) that is different to the input size (torch.Size([1])) is deprecated. Please ensure they have the same size.\n",
            "  return F.binary_cross_entropy(input, target, weight=self.weight, reduction=self.reduction)\n"
          ],
          "name": "stderr"
        },
        {
          "output_type": "display_data",
          "data": {
            "image/png": "[encoded data removed]",
            "text/plain": [
              "<Figure size 432x288 with 1 Axes>"
            ]
          },
          "metadata": {
            "tags": [],
            "needs_background": "light"
          }
        },
        {
          "output_type": "stream",
          "text": [
            "/usr/local/lib/python3.6/dist-packages/torch/nn/modules/loss.py:529: UserWarning: Using a target size (torch.Size([])) that is different to the input size (torch.Size([1])) is deprecated. Please ensure they have the same size.\n",
            "  return F.binary_cross_entropy(input, target, weight=self.weight, reduction=self.reduction)\n"
          ],
          "name": "stderr"
        },
        {
          "output_type": "display_data",
          "data": {
            "image/png": "[encoded data removed]",
            "text/plain": [
              "<Figure size 432x288 with 1 Axes>"
            ]
          },
          "metadata": {
            "tags": [],
            "needs_background": "light"
          }
        },
        {
          "output_type": "stream",
          "text": [
            "/usr/local/lib/python3.6/dist-packages/torch/nn/modules/loss.py:529: UserWarning: Using a target size (torch.Size([])) that is different to the input size (torch.Size([1])) is deprecated. Please ensure they have the same size.\n",
            "  return F.binary_cross_entropy(input, target, weight=self.weight, reduction=self.reduction)\n"
          ],
          "name": "stderr"
        },
        {
          "output_type": "display_data",
          "data": {
            "image/png": "[encoded data removed]",
            "text/plain": [
              "<Figure size 432x288 with 1 Axes>"
            ]
          },
          "metadata": {
            "tags": [],
            "needs_background": "light"
          }
        },
        {
          "output_type": "stream",
          "text": [
            "/usr/local/lib/python3.6/dist-packages/torch/nn/modules/loss.py:529: UserWarning: Using a target size (torch.Size([])) that is different to the input size (torch.Size([1])) is deprecated. Please ensure they have the same size.\n",
            "  return F.binary_cross_entropy(input, target, weight=self.weight, reduction=self.reduction)\n"
          ],
          "name": "stderr"
        },
        {
          "output_type": "display_data",
          "data": {
            "image/png": "[encoded data removed]",
            "text/plain": [
              "<Figure size 432x288 with 1 Axes>"
            ]
          },
          "metadata": {
            "tags": [],
            "needs_background": "light"
          }
        }
      ]
    },
    {
      "cell_type": "code",
      "metadata": {
        "id": "fKGGA1932dEV",
        "colab_type": "code",
        "colab": {
          "base_uri": "https://localhost:8080/",
          "height": 104
        },
        "outputId": "d43aa7eb-92af-469a-cb20-1ec6ef631834"
      },
      "source": [
        "model.state_dict()"
      ],
      "execution_count": 30,
      "outputs": [
        {
          "output_type": "execute_result",
          "data": {
            "text/plain": [
              "OrderedDict([('l1.weight', tensor([[0.9841],\n",
              "                      [0.9841]])),\n",
              "             ('l1.bias', tensor([0.3722, 0.3722])),\n",
              "             ('l2.weight', tensor([[0.0997, 0.0997]])),\n",
              "             ('l2.bias', tensor([-1.6672]))])"
            ]
          },
          "metadata": {
            "tags": []
          },
          "execution_count": 30
        }
      ]
    },
    {
      "cell_type": "code",
      "metadata": {
        "id": "tMiGbuyh2qfr",
        "colab_type": "code",
        "colab": {
          "base_uri": "https://localhost:8080/",
          "height": 69
        },
        "outputId": "dfe30f00-7d84-46c1-a7ea-ceb9596434d8"
      },
      "source": [
        "y_pred=model(torch.tensor([[-2.0],[0.0],[2.0]]))\n",
        "y_pred"
      ],
      "execution_count": 31,
      "outputs": [
        {
          "output_type": "execute_result",
          "data": {
            "text/plain": [
              "tensor([[0.1633],\n",
              "        [0.1752],\n",
              "        [0.1846]], grad_fn=<SigmoidBackward>)"
            ]
          },
          "metadata": {
            "tags": []
          },
          "execution_count": 31
        }
      ]
    },
    {
      "cell_type": "code",
      "metadata": {
        "id": "PTGPGud82wlG",
        "colab_type": "code",
        "colab": {}
      },
      "source": [
        ""
      ],
      "execution_count": 31,
      "outputs": []
    }
  ]
}