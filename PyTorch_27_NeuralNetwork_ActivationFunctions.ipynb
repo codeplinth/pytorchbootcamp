{
  "nbformat": 4,
  "nbformat_minor": 0,
  "metadata": {
    "colab": {
      "name": "PyTorch_27_NeuralNetwork_ActivationFunctions.ipynb",
      "provenance": [],
      "collapsed_sections": [],
      "authorship_tag": "ABX9TyOIqbigJSNrrIzU4tNMz09f",
      "include_colab_link": true
    },
    "kernelspec": {
      "name": "python3",
      "display_name": "Python 3"
    }
  },
  "cells": [
    {
      "cell_type": "markdown",
      "metadata": {
        "id": "view-in-github",
        "colab_type": "text"
      },
      "source": [
        "<a href=\"https://colab.research.google.com/github/codeplinth/pytorchbootcamp/blob/master/PyTorch_27_NeuralNetwork_ActivationFunctions.ipynb\" target=\"_parent\"><img src=\"https://colab.research.google.com/assets/colab-badge.svg\" alt=\"Open In Colab\"/></a>"
      ]
    },
    {
      "cell_type": "code",
      "metadata": {
        "id": "Rc4uJKcoKKGS",
        "colab_type": "code",
        "colab": {}
      },
      "source": [
        "import torch\n",
        "from torch import nn\n",
        "import matplotlib.pyplot as plt\n",
        "%matplotlib inline"
      ],
      "execution_count": 8,
      "outputs": []
    },
    {
      "cell_type": "code",
      "metadata": {
        "id": "mBoD6aBWKXTo",
        "colab_type": "code",
        "colab": {
          "base_uri": "https://localhost:8080/",
          "height": 35
        },
        "outputId": "532639d8-6398-4026-fd3b-c8499aa099ed"
      },
      "source": [
        "torch.manual_seed(2)"
      ],
      "execution_count": 2,
      "outputs": [
        {
          "output_type": "execute_result",
          "data": {
            "text/plain": [
              "<torch._C.Generator at 0x7faa00dd20d8>"
            ]
          },
          "metadata": {
            "tags": []
          },
          "execution_count": 2
        }
      ]
    },
    {
      "cell_type": "code",
      "metadata": {
        "id": "jAb3ELttKdve",
        "colab_type": "code",
        "colab": {}
      },
      "source": [
        "z = torch.arange(-10,10,0.1).view(-1,1)"
      ],
      "execution_count": 3,
      "outputs": []
    },
    {
      "cell_type": "code",
      "metadata": {
        "id": "pobDj_thKkGf",
        "colab_type": "code",
        "colab": {}
      },
      "source": [
        "sigmoid = nn.Sigmoid()"
      ],
      "execution_count": 4,
      "outputs": []
    },
    {
      "cell_type": "code",
      "metadata": {
        "id": "ABPqDjNKKo-V",
        "colab_type": "code",
        "colab": {}
      },
      "source": [
        "y_pred = sigmoid(z)"
      ],
      "execution_count": 6,
      "outputs": []
    },
    {
      "cell_type": "code",
      "metadata": {
        "id": "6G6C8SlKKrne",
        "colab_type": "code",
        "colab": {
          "base_uri": "https://localhost:8080/",
          "height": 279
        },
        "outputId": "755d6ed7-85bf-4ff0-a102-22efefc30d36"
      },
      "source": [
        "plt.plot(z.detach().numpy(),y_pred.detach().numpy())\n",
        "plt.xlabel('z')\n",
        "plt.ylabel('y_pred')\n",
        "plt.show()"
      ],
      "execution_count": 9,
      "outputs": [
        {
          "output_type": "display_data",
          "data": {
            "image/png": "[encoded data removed]",
            "text/plain": [
              "<Figure size 432x288 with 1 Axes>"
            ]
          },
          "metadata": {
            "tags": [],
            "needs_background": "light"
          }
        }
      ]
    },
    {
      "cell_type": "code",
      "metadata": {
        "id": "sXCMiUwLLPyW",
        "colab_type": "code",
        "colab": {}
      },
      "source": [
        "tanh = nn.Tanh()"
      ],
      "execution_count": 10,
      "outputs": []
    },
    {
      "cell_type": "code",
      "metadata": {
        "id": "bcTp7fBELme_",
        "colab_type": "code",
        "colab": {}
      },
      "source": [
        "y_pred = tanh(z)"
      ],
      "execution_count": 11,
      "outputs": []
    },
    {
      "cell_type": "code",
      "metadata": {
        "id": "iWDCEMfkLpU3",
        "colab_type": "code",
        "colab": {
          "base_uri": "https://localhost:8080/",
          "height": 279
        },
        "outputId": "2afd9ab3-e7c5-4566-ab98-f57ee0855370"
      },
      "source": [
        "plt.plot(z.detach().numpy(),y_pred.detach().numpy())\n",
        "plt.xlabel('z')\n",
        "plt.ylabel('y_pred')\n",
        "plt.show()"
      ],
      "execution_count": 12,
      "outputs": [
        {
          "output_type": "display_data",
          "data": {
            "image/png": "[encoded data removed]",
            "text/plain": [
              "<Figure size 432x288 with 1 Axes>"
            ]
          },
          "metadata": {
            "tags": [],
            "needs_background": "light"
          }
        }
      ]
    },
    {
      "cell_type": "code",
      "metadata": {
        "id": "CCsbcSuBLq3Q",
        "colab_type": "code",
        "colab": {}
      },
      "source": [
        "relu = nn.ReLU()"
      ],
      "execution_count": 13,
      "outputs": []
    },
    {
      "cell_type": "code",
      "metadata": {
        "id": "fYjWqH1YL1om",
        "colab_type": "code",
        "colab": {}
      },
      "source": [
        "y_pred = relu(z)"
      ],
      "execution_count": 14,
      "outputs": []
    },
    {
      "cell_type": "code",
      "metadata": {
        "id": "OmSiwKImL4SO",
        "colab_type": "code",
        "colab": {
          "base_uri": "https://localhost:8080/",
          "height": 279
        },
        "outputId": "eaac8872-e4e6-4dff-b5fd-12b64b98f54a"
      },
      "source": [
        "plt.plot(z.detach().numpy(),y_pred.detach().numpy())\n",
        "plt.xlabel('z')\n",
        "plt.ylabel('y_pred')\n",
        "plt.show()"
      ],
      "execution_count": 15,
      "outputs": [
        {
          "output_type": "display_data",
          "data": {
            "image/png": "[encoded data removed]",
            "text/plain": [
              "<Figure size 432x288 with 1 Axes>"
            ]
          },
          "metadata": {
            "tags": [],
            "needs_background": "light"
          }
        }
      ]
    },
    {
      "cell_type": "code",
      "metadata": {
        "id": "hTiOhoPQL5a2",
        "colab_type": "code",
        "colab": {
          "base_uri": "https://localhost:8080/",
          "height": 266
        },
        "outputId": "eeeaeb0f-e3a8-40a8-bc28-0b9ec4092678"
      },
      "source": [
        "z = torch.arange(-2,2,0.1).view(-1,1)\n",
        "plt.plot(z.detach().numpy(),sigmoid(z).detach().numpy(),label = 'Sigmoid')\n",
        "plt.plot(z.detach().numpy(),tanh(z).detach().numpy(),label = 'Tanh')\n",
        "plt.plot(z.detach().numpy(),relu(z).detach().numpy(),label = 'ReLU')\n",
        "plt.legend()\n",
        "plt.show()"
      ],
      "execution_count": 22,
      "outputs": [
        {
          "output_type": "display_data",
          "data": {
            "image/png": "[encoded data removed]",
            "text/plain": [
              "<Figure size 432x288 with 1 Axes>"
            ]
          },
          "metadata": {
            "tags": [],
            "needs_background": "light"
          }
        }
      ]
    },
    {
      "cell_type": "code",
      "metadata": {
        "id": "cBPs6VTQMQ-f",
        "colab_type": "code",
        "colab": {}
      },
      "source": [
        ""
      ],
      "execution_count": null,
      "outputs": []
    }
  ]
}