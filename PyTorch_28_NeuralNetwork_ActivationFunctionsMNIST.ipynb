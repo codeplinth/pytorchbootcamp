{
  "nbformat": 4,
  "nbformat_minor": 0,
  "metadata": {
    "colab": {
      "name": "PyTorch_28_NeuralNetwork_ActivationFunctionsMNIST.ipynb",
      "provenance": [],
      "collapsed_sections": [],
      "authorship_tag": "ABX9TyNNm0UsLKxIbLkjZIQjsCtE",
      "include_colab_link": true
    },
    "kernelspec": {
      "name": "python3",
      "display_name": "Python 3"
    }
  },
  "cells": [
    {
      "cell_type": "markdown",
      "metadata": {
        "id": "view-in-github",
        "colab_type": "text"
      },
      "source": [
        "<a href=\"https://colab.research.google.com/github/codeplinth/pytorchbootcamp/blob/master/PyTorch_28_NeuralNetwork_ActivationFunctionsMNIST.ipynb\" target=\"_parent\"><img src=\"https://colab.research.google.com/assets/colab-badge.svg\" alt=\"Open In Colab\"/></a>"
      ]
    },
    {
      "cell_type": "code",
      "metadata": {
        "id": "-ZIdPvTMPs_C",
        "colab_type": "code",
        "colab": {}
      },
      "source": [
        "import torch\n",
        "from torch import nn,optim\n",
        "from torch.utils.data import Dataset,DataLoader\n",
        "import torchvision\n",
        "from torchvision import datasets,transforms\n",
        "import matplotlib.pyplot as plt\n",
        "%matplotlib inline"
      ],
      "execution_count": 24,
      "outputs": []
    },
    {
      "cell_type": "code",
      "metadata": {
        "id": "fLX_AZmFRGem",
        "colab_type": "code",
        "colab": {}
      },
      "source": [
        "class Net_Sigmoid(nn.Module):\n",
        "  def __init__(self,D_in,H,D_out):\n",
        "    super(Net_Sigmoid,self).__init__()\n",
        "    self.l1 = nn.Linear(D_in,H)\n",
        "    self.l2 = nn.Linear(H,D_out)\n",
        "    self.sigmoid = nn.Sigmoid()\n",
        "\n",
        "  def forward(self,x):\n",
        "    out1 = self.sigmoid(self.l1(x))\n",
        "    z_pred = self.l2(out1)\n",
        "    return z_pred\n"
      ],
      "execution_count": 25,
      "outputs": []
    },
    {
      "cell_type": "code",
      "metadata": {
        "id": "FoqLx2HiSJFC",
        "colab_type": "code",
        "colab": {}
      },
      "source": [
        "class Net_Tanh(nn.Module):\n",
        "  def __init__(self,D_in,H,D_out):\n",
        "    super(Net_Tanh,self).__init__()\n",
        "    self.l1 = nn.Linear(D_in,H)\n",
        "    self.l2 = nn.Linear(H,D_out)\n",
        "    self.tanh = nn.Tanh()\n",
        "\n",
        "  def forward(self,x):\n",
        "    out1 = self.tanh(self.l1(x))\n",
        "    z_pred = self.l2(out1)\n",
        "    return z_pred"
      ],
      "execution_count": 26,
      "outputs": []
    },
    {
      "cell_type": "code",
      "metadata": {
        "id": "idIbJ6I2SUEG",
        "colab_type": "code",
        "colab": {}
      },
      "source": [
        "class Net_ReLU(nn.Module):\n",
        "  def __init__(self,D_in,H,D_out):\n",
        "    super(Net_ReLU,self).__init__()\n",
        "    self.l1 = nn.Linear(D_in,H)\n",
        "    self.l2 = nn.Linear(H,D_out)\n",
        "    self.relu = nn.ReLU()\n",
        "\n",
        "  def forward(self,x):\n",
        "    out1 = self.relu(self.l1(x))\n",
        "    z_pred = self.l2(out1)\n",
        "    return z_pred"
      ],
      "execution_count": 27,
      "outputs": []
    },
    {
      "cell_type": "code",
      "metadata": {
        "id": "GgI-L6DFSbsW",
        "colab_type": "code",
        "colab": {}
      },
      "source": [
        "def train_model(model,optimizer,criterion,train_loader,validation_loader,EPOCHS=100):\n",
        "  metrics = {'training_loss':[],'validation_accuracy':[]}\n",
        "  for epoch in range(EPOCHS):\n",
        "    for x,y in train_loader:\n",
        "      z = model(x.view(-1,1*28*28))\n",
        "      loss = criterion(z,y)\n",
        "      optimizer.zero_grad()\n",
        "      loss.backward()\n",
        "      optimizer.step()\n",
        "      metrics['training_loss'].append(loss.item())\n",
        "\n",
        "    correct = 0\n",
        "    for x_val,y_val in validation_loader:\n",
        "      z = model(x_val.view(-1,1*28*28))\n",
        "      _,y_pred = torch.max(z,1)\n",
        "      correct += (y_pred == y_val).sum().item()\n",
        "    accuracy = ( 100 * correct ) / len(validation_dataset)\n",
        "    metrics['validation_accuracy'].append(accuracy)\n",
        "  return metrics"
      ],
      "execution_count": 32,
      "outputs": []
    },
    {
      "cell_type": "code",
      "metadata": {
        "id": "znbzIPW_YvTQ",
        "colab_type": "code",
        "colab": {}
      },
      "source": [
        "input_dim = 1*28*28\n",
        "hidden_dim = 100\n",
        "output_dim = 10\n",
        "learning_rate = 0.01 \n",
        "criterion = nn.CrossEntropyLoss()"
      ],
      "execution_count": 33,
      "outputs": []
    },
    {
      "cell_type": "code",
      "metadata": {
        "id": "c3eRGCZTP1Ha",
        "colab_type": "code",
        "colab": {}
      },
      "source": [
        "train_dataset = datasets.MNIST(root = '../mnist_data',train = True,download=True,transform = transforms.ToTensor())\n",
        "validation_dataset = datasets.MNIST(root = '../mnist_data',train = False,download=True,transform = transforms.ToTensor())\n",
        "train_loader = DataLoader(dataset = train_dataset,shuffle=True,batch_size =2000)\n",
        "validation_loader = DataLoader(dataset = validation_dataset,shuffle = False,batch_size = 5000 )"
      ],
      "execution_count": 34,
      "outputs": []
    },
    {
      "cell_type": "code",
      "metadata": {
        "id": "zR8n4Qb3ZDS0",
        "colab_type": "code",
        "colab": {}
      },
      "source": [
        "model_sigmoid = Net_Sigmoid(input_dim,hidden_dim,output_dim)\n",
        "optimizer = optim.SGD(model_sigmoid.parameters(),learning_rate)\n",
        "training_result_sigmoid = train_model(model_sigmoid,optimizer,criterion,train_loader,validation_loader,EPOCHS=10)"
      ],
      "execution_count": 36,
      "outputs": []
    },
    {
      "cell_type": "code",
      "metadata": {
        "id": "9r61Krg2Zo8K",
        "colab_type": "code",
        "colab": {}
      },
      "source": [
        "model_tanh = Net_Tanh(input_dim,hidden_dim,output_dim)\n",
        "optimizer = optim.SGD(model_tanh.parameters(),learning_rate)\n",
        "training_result_tanh = train_model(model_tanh,optimizer,criterion,train_loader,validation_loader,EPOCHS=10)"
      ],
      "execution_count": 38,
      "outputs": []
    },
    {
      "cell_type": "code",
      "metadata": {
        "id": "l5jb4pqoZpny",
        "colab_type": "code",
        "colab": {}
      },
      "source": [
        "model_relu = Net_ReLU(input_dim,hidden_dim,output_dim)\n",
        "optimizer = optim.SGD(model_relu.parameters(),learning_rate)\n",
        "training_result_relu = train_model(model_relu,optimizer,criterion,train_loader,validation_loader,EPOCHS=10)"
      ],
      "execution_count": 40,
      "outputs": []
    },
    {
      "cell_type": "code",
      "metadata": {
        "id": "fLLQThq2dGEF",
        "colab_type": "code",
        "colab": {
          "base_uri": "https://localhost:8080/",
          "height": 279
        },
        "outputId": "ffe5a469-578f-4dd2-b1fb-e77add978a08"
      },
      "source": [
        "plt.plot(training_result_sigmoid['training_loss'],label = 'Sigmoid')\n",
        "plt.plot(training_result_tanh['training_loss'],label = 'Tanh')\n",
        "plt.plot(training_result_relu['training_loss'],label = 'ReLU')\n",
        "plt.xlabel('Iterations')\n",
        "plt.ylabel('LOSS')\n",
        "plt.legend()\n",
        "plt.show()"
      ],
      "execution_count": 41,
      "outputs": [
        {
          "output_type": "display_data",
          "data": {
            "image/png": "[encoded data removed]",
            "text/plain": [
              "<Figure size 432x288 with 1 Axes>"
            ]
          },
          "metadata": {
            "tags": [],
            "needs_background": "light"
          }
        }
      ]
    },
    {
      "cell_type": "code",
      "metadata": {
        "id": "HAQuyiRPdlx9",
        "colab_type": "code",
        "colab": {
          "base_uri": "https://localhost:8080/",
          "height": 279
        },
        "outputId": "4acc580d-0ea2-43e3-8ba8-5c6393315781"
      },
      "source": [
        "plt.plot(training_result_sigmoid['validation_accuracy'],label = 'Sigmoid')\n",
        "plt.plot(training_result_tanh['validation_accuracy'],label = 'Tanh')\n",
        "plt.plot(training_result_relu['validation_accuracy'],label = 'ReLU')\n",
        "plt.xlabel('Epochs')\n",
        "plt.ylabel('ACCURACY')\n",
        "plt.legend()\n",
        "plt.show()"
      ],
      "execution_count": 42,
      "outputs": [
        {
          "output_type": "display_data",
          "data": {
            "image/png": "[encoded data removed]",
            "text/plain": [
              "<Figure size 432x288 with 1 Axes>"
            ]
          },
          "metadata": {
            "tags": [],
            "needs_background": "light"
          }
        }
      ]
    }
  ]
}